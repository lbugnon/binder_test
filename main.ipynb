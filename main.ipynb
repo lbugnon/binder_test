{
 "cells": [
  {
   "cell_type": "code",
   "execution_count": 1,
   "metadata": {},
   "outputs": [],
   "source": [
    "from model import mirDNN\n",
    "from parameters import ParameterParser\n",
    "from fold_dataset import FoldDataset\n",
    "import torch as tr\n",
    "import os\n",
    "from tqdm import tqdm\n",
    "import pandas as pd\n",
    "import shutil\n",
    "from matplotlib import pyplot as plt\n",
    "import numpy as np\n"
   ]
  },
  {
   "cell_type": "code",
   "execution_count": 2,
   "metadata": {},
   "outputs": [],
   "source": [
    "#Config\n",
    "fname = \"\"\n",
    "seq = \"ugggaugagguaguagguuguauaguuuuagggucacacccaccacugggagauaacuauacaaucuacugucuuuccua\"\n",
    "model = \"animal\""
   ]
  },
  {
   "cell_type": "code",
   "execution_count": 3,
   "metadata": {},
   "outputs": [
    {
     "name": "stderr",
     "output_type": "stream",
     "text": [
      "100%|██████████| 1/1 [00:00<00:00,  2.94it/s]\n"
     ]
    },
    {
     "data": {
      "image/png": "[encoded data removed]",
      "text/plain": [
       "<Figure size 432x288 with 1 Axes>"
      ]
     },
     "metadata": {
      "needs_background": "light"
     },
     "output_type": "display_data"
    }
   ],
   "source": [
    "if (fname != \"\" and seq != \"\") or (fname == \"\" and seq == \"\"):\n",
    "        print(\"Error: specify either a sequence or a fasta file\")\n",
    "        exit(1)\n",
    "        \n",
    "if os.path.isfile(\"tmp.fold\"):\n",
    "    os.remove(\"tmp.fold\")\n",
    "\n",
    "pp = ParameterParser(\"\")\n",
    "pp.model_file = \"models/%s.pmt\" % model\n",
    "if model == \"plants\":\n",
    "    pp.seq_len = 320\n",
    "model = mirDNN(pp)\n",
    "model.load(pp.model_file)\n",
    "model.eval()\n",
    "\n",
    "if seq != \"\": # return activation per each base\n",
    "    with open(\"tmp.fasta\", \"w\") as fout:\n",
    "        fout.write(\">seq_name\\n%s\\n\" % (seq))\n",
    "    os.system(\"bin/RNAfold --noPS --infile=tmp.fasta --outfile=tmp.fold\")\n",
    "    fout_name = \"mirDNN_nucleotide_importance.png\"\n",
    "\n",
    "if fname != \"\": # return only scores\n",
    "    os.system(\"bin/RNAfold --noPS --infile=%s --outfile=tmp.fold\" %fname)\n",
    "    fout_name = \"mirDNN_scores.csv\"\n",
    "\n",
    "dataset = FoldDataset([\"tmp.fold\"], pp.seq_len)\n",
    "ind = tr.LongTensor(range(pp.seq_len))\n",
    "\n",
    "with open(\"salida.csv\", 'w') as csvfile:\n",
    "\n",
    "    line = \"sequence_name,score,\"\n",
    "    if seq != \"\":\n",
    "        line += \",\".join([\"N{0}\".format(i) for i in range(pp.seq_len)])\n",
    "    csvfile.write(line + \"\\n\")\n",
    "\n",
    "    for i, data in enumerate(tqdm(dataset)):\n",
    "        x, v, _ = data\n",
    "\n",
    "        mean = model(x.unsqueeze(0), v.unsqueeze(0)).cpu().detach().item()\n",
    "\n",
    "        x = x.repeat(pp.seq_len, 1)\n",
    "        x[ind, ind] = 0\n",
    "        v = v.repeat(pp.seq_len, 1)\n",
    "\n",
    "        z = model(x, v).cpu().detach().squeeze()\n",
    "        z = mean - z\n",
    "        line = \"%s,%.3f,\" % (dataset.name[i], mean)\n",
    "        if seq != \"\":\n",
    "            line += \",\".join([\"%.3f\" % val for val in z.tolist()])\n",
    "        csvfile.write(line + \"\\n\")\n",
    "\n",
    "if fname != \"\":  # return only scores\n",
    "    os.rename(\"salida.csv\", fout_name)\n",
    "\n",
    "if seq != \"\":  # return image of nucleotide importance\n",
    "    z[z < 0] = 0\n",
    "    plt.bar(np.arange(len(z)), z)\n",
    "    plt.xlabel(\"Nucleotide position\")\n",
    "    plt.ylabel(\"Importance\")\n",
    "    plt.title(\"Score=%.3f\" % mean)\n",
    "    plt.tight_layout()\n",
    "    #plt.savefig(fout_name)\n",
    "    plt.show()"
   ]
  },
  {
   "cell_type": "code",
   "execution_count": null,
   "metadata": {},
   "outputs": [],
   "source": []
  }
 ],
 "metadata": {
  "kernelspec": {
   "display_name": "Python 3",
   "language": "python",
   "name": "python3"
  },
  "language_info": {
   "codemirror_mode": {
    "name": "ipython",
    "version": 3
   },
   "file_extension": ".py",
   "mimetype": "text/x-python",
   "name": "python",
   "nbconvert_exporter": "python",
   "pygments_lexer": "ipython3",
   "version": "3.8.3rc1"
  }
 },
 "nbformat": 4,
 "nbformat_minor": 4
}
